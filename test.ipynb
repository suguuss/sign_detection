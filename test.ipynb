{
 "cells": [
  {
   "cell_type": "code",
   "execution_count": 1,
   "metadata": {},
   "outputs": [
    {
     "name": "stderr",
     "output_type": "stream",
     "text": [
      "panneau1.jpg: 100%|██████████| 1280/1280 [00:03<00:00, 371.05it/s]\n",
      "panneau2.jpg: 100%|██████████| 980/980 [00:01<00:00, 612.95it/s]\n",
      "panneau3.jpg: 100%|██████████| 1280/1280 [00:03<00:00, 381.76it/s]\n",
      "panneau4.jpg: 100%|██████████| 2592/2592 [00:15<00:00, 164.43it/s]\n",
      "panneau5.jpg: 100%|██████████| 1920/1920 [00:06<00:00, 298.35it/s]\n"
     ]
    }
   ],
   "source": [
    "import os\n",
    "import tqdm\n",
    "from PIL import Image\n",
    "data = []\n",
    "\n",
    "for file in os.listdir(\"dataset\"):\n",
    "\tif \"t\" not in file:\n",
    "\t\tdata.append(file)\n",
    "\n",
    "inputs = []\n",
    "outputs = []\n",
    "\n",
    "for image in data:\n",
    "\timg_source\t= Image.open(f\"dataset/{image}\")\n",
    "\timg_target \t= Image.open(f\"dataset/target_{image}\")\n",
    "\n",
    "\twidth, height = img_source.size\n",
    "\n",
    "\tsource_rgb = img_source.convert(\"RGB\")\n",
    "\ttarget_rgb = img_target.convert(\"RGB\")\n",
    "\n",
    "\tfor x in tqdm.tqdm(range(width), desc=image):\n",
    "\t\tfor y in range(height):\n",
    "\t\t\tr,g,b = target_rgb.getpixel((x,y))\n",
    "\t\t\ttarget = 0.01\n",
    "\t\t\tif r == g == b == 255:\n",
    "\t\t\t\ttarget = 0.99\n",
    "\n",
    "\t\t\tr,g,b = source_rgb.getpixel((x,y))\n",
    "\n",
    "\t\t\tinputs.append([r/255,g/255,b/255])\n",
    "\t\t\toutputs.append(target)"
   ]
  },
  {
   "cell_type": "code",
   "execution_count": 20,
   "metadata": {},
   "outputs": [
    {
     "name": "stdout",
     "output_type": "stream",
     "text": [
      "7.1126580996913935 %\n",
      "Model: \"sequential_3\"\n",
      "_________________________________________________________________\n",
      " Layer (type)                Output Shape              Param #   \n",
      "=================================================================\n",
      " dense_3 (Dense)             (None, 3)                 12        \n",
      "                                                                 \n",
      " hidden (Dense)              (None, 3)                 12        \n",
      "                                                                 \n",
      " ouput (Dense)               (None, 1)                 4         \n",
      "                                                                 \n",
      "=================================================================\n",
      "Total params: 28\n",
      "Trainable params: 28\n",
      "Non-trainable params: 0\n",
      "_________________________________________________________________\n"
     ]
    }
   ],
   "source": [
    "import numpy as np\n",
    "import tensorflow as tf\n",
    "from tensorflow import keras\n",
    "from tensorflow.keras import layers\n",
    "\n",
    "outputs = np.array(outputs, dtype=float)\n",
    "inputs = np.array(inputs, dtype=float)\n",
    "\n",
    "\n",
    "print(f\"{np.count_nonzero(outputs == 0.99) / len(outputs) * 100} %\")\n",
    "\n",
    "model = keras.Sequential(\n",
    "\t[\n",
    "\t\tlayers.Dense(3, input_shape=[3]),\n",
    "\t\tlayers.Dense(3, activation=\"sigmoid\", name=\"hidden\"),\n",
    "\t\tlayers.Dense(1, activation=\"sigmoid\", name=\"ouput\")\n",
    "\t]\n",
    ")\n",
    "\n",
    "model.compile(\n",
    "\toptimizer=keras.optimizers.Adam(0.025),\n",
    "\tloss='mean_squared_error'\n",
    ")\n",
    "\n",
    "model.summary()"
   ]
  },
  {
   "cell_type": "code",
   "execution_count": 21,
   "metadata": {},
   "outputs": [
    {
     "name": "stdout",
     "output_type": "stream",
     "text": [
      "Epoch 1/50\n",
      "193/193 [==============================] - 2s 6ms/step - loss: 0.0736\n",
      "Epoch 2/50\n",
      "193/193 [==============================] - 1s 6ms/step - loss: 0.0486\n",
      "Epoch 3/50\n",
      "193/193 [==============================] - 1s 6ms/step - loss: 0.0161\n",
      "Epoch 4/50\n",
      "193/193 [==============================] - 1s 6ms/step - loss: 0.0148\n",
      "Epoch 5/50\n",
      "193/193 [==============================] - 1s 6ms/step - loss: 0.0143\n",
      "Epoch 6/50\n",
      "193/193 [==============================] - 1s 6ms/step - loss: 0.0141\n",
      "Epoch 7/50\n",
      "193/193 [==============================] - 1s 6ms/step - loss: 0.0140\n",
      "Epoch 8/50\n",
      "193/193 [==============================] - 1s 6ms/step - loss: 0.0140\n",
      "Epoch 9/50\n",
      "193/193 [==============================] - 1s 6ms/step - loss: 0.0139\n",
      "Epoch 10/50\n",
      "193/193 [==============================] - 1s 6ms/step - loss: 0.0139\n",
      "Epoch 11/50\n",
      "193/193 [==============================] - 1s 6ms/step - loss: 0.0139\n",
      "Epoch 12/50\n",
      "193/193 [==============================] - 1s 6ms/step - loss: 0.0139\n",
      "Epoch 13/50\n",
      "193/193 [==============================] - 1s 6ms/step - loss: 0.0138\n",
      "Epoch 14/50\n",
      "193/193 [==============================] - 1s 6ms/step - loss: 0.0138\n",
      "Epoch 15/50\n",
      "193/193 [==============================] - 1s 5ms/step - loss: 0.0138\n",
      "Epoch 16/50\n",
      "193/193 [==============================] - 1s 6ms/step - loss: 0.0138\n",
      "Epoch 17/50\n",
      "193/193 [==============================] - 1s 6ms/step - loss: 0.0138\n",
      "Epoch 18/50\n",
      "193/193 [==============================] - 1s 6ms/step - loss: 0.0138\n",
      "Epoch 19/50\n",
      "193/193 [==============================] - 1s 6ms/step - loss: 0.0138\n",
      "Epoch 20/50\n",
      "193/193 [==============================] - 1s 6ms/step - loss: 0.0137\n",
      "Epoch 21/50\n",
      "193/193 [==============================] - 1s 6ms/step - loss: 0.0137\n",
      "Epoch 22/50\n",
      "193/193 [==============================] - 1s 6ms/step - loss: 0.0135\n",
      "Epoch 23/50\n",
      "193/193 [==============================] - 1s 6ms/step - loss: 0.0133\n",
      "Epoch 24/50\n",
      "193/193 [==============================] - 1s 6ms/step - loss: 0.0130\n",
      "Epoch 25/50\n",
      "193/193 [==============================] - 1s 6ms/step - loss: 0.0128\n",
      "Epoch 26/50\n",
      "193/193 [==============================] - 1s 6ms/step - loss: 0.0128\n",
      "Epoch 27/50\n",
      "193/193 [==============================] - 1s 6ms/step - loss: 0.0127\n",
      "Epoch 28/50\n",
      "193/193 [==============================] - 1s 6ms/step - loss: 0.0127\n",
      "Epoch 29/50\n",
      "193/193 [==============================] - 1s 6ms/step - loss: 0.0126\n",
      "Epoch 30/50\n",
      "193/193 [==============================] - 1s 6ms/step - loss: 0.0127\n",
      "Epoch 31/50\n",
      "193/193 [==============================] - 1s 6ms/step - loss: 0.0126\n",
      "Epoch 32/50\n",
      "193/193 [==============================] - 1s 6ms/step - loss: 0.0126\n",
      "Epoch 33/50\n",
      "193/193 [==============================] - 1s 6ms/step - loss: 0.0126\n",
      "Epoch 34/50\n",
      "193/193 [==============================] - 1s 6ms/step - loss: 0.0126\n",
      "Epoch 35/50\n",
      "193/193 [==============================] - 1s 6ms/step - loss: 0.0126\n",
      "Epoch 36/50\n",
      "193/193 [==============================] - 1s 6ms/step - loss: 0.0126\n",
      "Epoch 37/50\n",
      "193/193 [==============================] - 1s 6ms/step - loss: 0.0126\n",
      "Epoch 38/50\n",
      "193/193 [==============================] - 1s 6ms/step - loss: 0.0126\n",
      "Epoch 39/50\n",
      "193/193 [==============================] - 1s 6ms/step - loss: 0.0126\n",
      "Epoch 40/50\n",
      "193/193 [==============================] - 1s 6ms/step - loss: 0.0125\n",
      "Epoch 41/50\n",
      "193/193 [==============================] - 1s 6ms/step - loss: 0.0125\n",
      "Epoch 42/50\n",
      "193/193 [==============================] - 1s 6ms/step - loss: 0.0125\n",
      "Epoch 43/50\n",
      "193/193 [==============================] - 1s 6ms/step - loss: 0.0125\n",
      "Epoch 44/50\n",
      "193/193 [==============================] - 1s 6ms/step - loss: 0.0126\n",
      "Epoch 45/50\n",
      "193/193 [==============================] - 1s 6ms/step - loss: 0.0126\n",
      "Epoch 46/50\n",
      "193/193 [==============================] - 1s 6ms/step - loss: 0.0125\n",
      "Epoch 47/50\n",
      "193/193 [==============================] - 1s 6ms/step - loss: 0.0125\n",
      "Epoch 48/50\n",
      "193/193 [==============================] - 1s 6ms/step - loss: 0.0125\n",
      "Epoch 49/50\n",
      "193/193 [==============================] - 1s 6ms/step - loss: 0.0125\n",
      "Epoch 50/50\n",
      "193/193 [==============================] - 1s 5ms/step - loss: 0.0125\n"
     ]
    },
    {
     "data": {
      "text/plain": [
       "<keras.callbacks.History at 0x1c05e0323b0>"
      ]
     },
     "execution_count": 21,
     "metadata": {},
     "output_type": "execute_result"
    }
   ],
   "source": [
    "model.fit(\n",
    "\tinputs,\n",
    "\toutputs,\n",
    "\tbatch_size=50000,\n",
    "\tepochs=50\n",
    ")"
   ]
  },
  {
   "cell_type": "code",
   "execution_count": null,
   "metadata": {},
   "outputs": [],
   "source": [
    "model.save(\"new_model.h5\")"
   ]
  }
 ],
 "metadata": {
  "kernelspec": {
   "display_name": "Python 3.10.2 64-bit",
   "language": "python",
   "name": "python3"
  },
  "language_info": {
   "codemirror_mode": {
    "name": "ipython",
    "version": 3
   },
   "file_extension": ".py",
   "mimetype": "text/x-python",
   "name": "python",
   "nbconvert_exporter": "python",
   "pygments_lexer": "ipython3",
   "version": "3.10.2"
  },
  "orig_nbformat": 4,
  "vscode": {
   "interpreter": {
    "hash": "a5ee962049df0cc180b275bd89df25be45e4f2f48a2e97f999a27bdb7685ae37"
   }
  }
 },
 "nbformat": 4,
 "nbformat_minor": 2
}
